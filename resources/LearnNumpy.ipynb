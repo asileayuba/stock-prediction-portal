{
 "cells": [
  {
   "cell_type": "code",
   "execution_count": 20,
   "id": "91e6a0c5-9c68-423f-bda9-0f92d225a0f3",
   "metadata": {},
   "outputs": [],
   "source": [
    "import numpy as np"
   ]
  },
  {
   "cell_type": "code",
   "execution_count": 21,
   "id": "ff807312-0197-46d0-a143-c366c9e80c64",
   "metadata": {},
   "outputs": [
    {
     "data": {
      "text/plain": [
       "'2.0.1'"
      ]
     },
     "execution_count": 21,
     "metadata": {},
     "output_type": "execute_result"
    }
   ],
   "source": [
    "np.__version__"
   ]
  },
  {
   "cell_type": "markdown",
   "id": "f2ba2893-574b-459d-8f4d-478a8d0f1e7b",
   "metadata": {},
   "source": [
    "## Create & Read"
   ]
  },
  {
   "cell_type": "markdown",
   "id": "1005e9f9-5106-424c-8869-a40ba2128d77",
   "metadata": {},
   "source": [
    "### 1D Array"
   ]
  },
  {
   "cell_type": "code",
   "execution_count": 22,
   "id": "533ba519-9b64-42c7-881b-c968d2362276",
   "metadata": {},
   "outputs": [
    {
     "data": {
      "text/plain": [
       "array([1, 2, 3, 4, 5, 6])"
      ]
     },
     "execution_count": 22,
     "metadata": {},
     "output_type": "execute_result"
    }
   ],
   "source": [
    "arr1 = np.array([1, 2, 3, 4, 5, 6])\n",
    "arr1"
   ]
  },
  {
   "cell_type": "code",
   "execution_count": 23,
   "id": "d961adf0-4927-4727-aa67-7165228159ba",
   "metadata": {},
   "outputs": [
    {
     "data": {
      "text/plain": [
       "numpy.ndarray"
      ]
     },
     "execution_count": 23,
     "metadata": {},
     "output_type": "execute_result"
    }
   ],
   "source": [
    "type(arr1)"
   ]
  },
  {
   "cell_type": "code",
   "execution_count": 24,
   "id": "94b10c46-c00c-4d07-90df-d1751b7f8cc2",
   "metadata": {},
   "outputs": [
    {
     "data": {
      "text/plain": [
       "(6,)"
      ]
     },
     "execution_count": 24,
     "metadata": {},
     "output_type": "execute_result"
    }
   ],
   "source": [
    "arr1.shape"
   ]
  },
  {
   "cell_type": "code",
   "execution_count": 25,
   "id": "93405ec6-fbc9-4ac2-8d64-b393b2e87c5d",
   "metadata": {},
   "outputs": [
    {
     "data": {
      "text/plain": [
       "dtype('int64')"
      ]
     },
     "execution_count": 25,
     "metadata": {},
     "output_type": "execute_result"
    }
   ],
   "source": [
    "arr1.dtype"
   ]
  },
  {
   "cell_type": "code",
   "execution_count": 26,
   "id": "165e43d3-590d-4a82-b1a6-84b36b9492cf",
   "metadata": {},
   "outputs": [
    {
     "data": {
      "text/plain": [
       "1"
      ]
     },
     "execution_count": 26,
     "metadata": {},
     "output_type": "execute_result"
    }
   ],
   "source": [
    "arr1.ndim"
   ]
  },
  {
   "cell_type": "code",
   "execution_count": 27,
   "id": "a679c85e-7f60-4a8c-854a-ae9d1ec02192",
   "metadata": {},
   "outputs": [
    {
     "data": {
      "text/plain": [
       "6"
      ]
     },
     "execution_count": 27,
     "metadata": {},
     "output_type": "execute_result"
    }
   ],
   "source": [
    "arr1.size"
   ]
  },
  {
   "cell_type": "markdown",
   "id": "ebad3c80-28a4-4d52-b9ea-ca61339e666f",
   "metadata": {},
   "source": [
    "### 2D Array"
   ]
  },
  {
   "cell_type": "code",
   "execution_count": 28,
   "id": "6bcd21d8-536e-49ef-83d6-8de6741dd74f",
   "metadata": {},
   "outputs": [
    {
     "data": {
      "text/plain": [
       "array([[1, 4, 5],\n",
       "       [6, 7, 1]])"
      ]
     },
     "execution_count": 28,
     "metadata": {},
     "output_type": "execute_result"
    }
   ],
   "source": [
    "arr2 = np.array([[1, 4, 5], [6, 7, 1]])\n",
    "arr2"
   ]
  },
  {
   "cell_type": "code",
   "execution_count": 29,
   "id": "701778d9-9d95-452f-b708-24c0b99b2553",
   "metadata": {},
   "outputs": [
    {
     "data": {
      "text/plain": [
       "2"
      ]
     },
     "execution_count": 29,
     "metadata": {},
     "output_type": "execute_result"
    }
   ],
   "source": [
    "arr2.ndim"
   ]
  },
  {
   "cell_type": "code",
   "execution_count": 30,
   "id": "f98a76f6-bdaa-4fd6-99c4-3dda994621cc",
   "metadata": {},
   "outputs": [
    {
     "data": {
      "text/plain": [
       "(2, 3)"
      ]
     },
     "execution_count": 30,
     "metadata": {},
     "output_type": "execute_result"
    }
   ],
   "source": [
    "arr2.shape # (row, column)"
   ]
  },
  {
   "cell_type": "code",
   "execution_count": 31,
   "id": "679157bc-e936-469e-a380-2a64eb99ae88",
   "metadata": {},
   "outputs": [
    {
     "data": {
      "text/plain": [
       "dtype('int64')"
      ]
     },
     "execution_count": 31,
     "metadata": {},
     "output_type": "execute_result"
    }
   ],
   "source": [
    "arr2.dtype"
   ]
  },
  {
   "cell_type": "code",
   "execution_count": 32,
   "id": "2b5a084c-035d-4585-b882-5552bf5daaec",
   "metadata": {},
   "outputs": [
    {
     "data": {
      "text/plain": [
       "6"
      ]
     },
     "execution_count": 32,
     "metadata": {},
     "output_type": "execute_result"
    }
   ],
   "source": [
    "arr2.size"
   ]
  },
  {
   "cell_type": "markdown",
   "id": "ae848a5e-efe6-4393-bcde-372b1854d8c3",
   "metadata": {},
   "source": [
    "### 3D Array"
   ]
  },
  {
   "cell_type": "code",
   "execution_count": 33,
   "id": "9f6059a0-c829-4734-879d-df0c107c7bf1",
   "metadata": {},
   "outputs": [
    {
     "data": {
      "text/plain": [
       "array([[[1, 3, 5],\n",
       "        [2, 4, 8]],\n",
       "\n",
       "       [[1, 4, 5],\n",
       "        [6, 7, 1]],\n",
       "\n",
       "       [[9, 3, 6],\n",
       "        [4, 6, 6]]])"
      ]
     },
     "execution_count": 33,
     "metadata": {},
     "output_type": "execute_result"
    }
   ],
   "source": [
    "arr3 = np.array([[[1, 3, 5,], [2, 4, 8]], [[1, 4, 5], [6, 7, 1]], [[9, 3, 6], [4, 6,6]]])\n",
    "arr3"
   ]
  },
  {
   "cell_type": "code",
   "execution_count": 34,
   "id": "81ada449-dd0d-4edb-871b-6052b4d12b0e",
   "metadata": {},
   "outputs": [
    {
     "data": {
      "text/plain": [
       "3"
      ]
     },
     "execution_count": 34,
     "metadata": {},
     "output_type": "execute_result"
    }
   ],
   "source": [
    "arr3.ndim"
   ]
  },
  {
   "cell_type": "code",
   "execution_count": 35,
   "id": "707aa67c-cccf-4bf1-a9f1-28df82fb6a2f",
   "metadata": {},
   "outputs": [
    {
     "data": {
      "text/plain": [
       "(3, 2, 3)"
      ]
     },
     "execution_count": 35,
     "metadata": {},
     "output_type": "execute_result"
    }
   ],
   "source": [
    "arr3.shape"
   ]
  },
  {
   "cell_type": "code",
   "execution_count": null,
   "id": "a2696c7c-1d6f-4e11-bb51-4f3b4e84e8eb",
   "metadata": {},
   "outputs": [],
   "source": []
  },
  {
   "cell_type": "markdown",
   "id": "949f814f-5bc1-4861-8fd4-14781a25b12d",
   "metadata": {},
   "source": [
    "## Create Random Array"
   ]
  },
  {
   "cell_type": "code",
   "execution_count": 36,
   "id": "79373406-9091-4573-816a-e9d089efc753",
   "metadata": {},
   "outputs": [
    {
     "data": {
      "text/plain": [
       "array([[[0.21118984, 0.17649022, 0.52452942],\n",
       "        [0.77405753, 0.22419593, 0.05046678]],\n",
       "\n",
       "       [[0.08262854, 0.29885016, 0.05807263],\n",
       "        [0.29095701, 0.18838381, 0.38139366]],\n",
       "\n",
       "       [[0.1644512 , 0.01874999, 0.06644487],\n",
       "        [0.96488941, 0.23357093, 0.37241436]]])"
      ]
     },
     "execution_count": 36,
     "metadata": {},
     "output_type": "execute_result"
    }
   ],
   "source": [
    "randomArr = np.random.rand(3, 2, 3)\n",
    "randomArr"
   ]
  },
  {
   "cell_type": "code",
   "execution_count": 37,
   "id": "295ffd13-9096-4a5a-a2ac-fc317edd3a2c",
   "metadata": {},
   "outputs": [
    {
     "data": {
      "text/plain": [
       "dtype('float64')"
      ]
     },
     "execution_count": 37,
     "metadata": {},
     "output_type": "execute_result"
    }
   ],
   "source": [
    "randomArr.dtype"
   ]
  },
  {
   "cell_type": "code",
   "execution_count": 38,
   "id": "8b79ddaf-c2db-4577-85a6-e6e8f49f3d67",
   "metadata": {},
   "outputs": [
    {
     "data": {
      "text/plain": [
       "array([[[0., 0., 0.],\n",
       "        [0., 0., 0.]],\n",
       "\n",
       "       [[0., 0., 0.],\n",
       "        [0., 0., 0.]],\n",
       "\n",
       "       [[0., 0., 0.],\n",
       "        [0., 0., 0.]]])"
      ]
     },
     "execution_count": 38,
     "metadata": {},
     "output_type": "execute_result"
    }
   ],
   "source": [
    "zeroes = np.zeros((3, 2, 3))\n",
    "zeroes"
   ]
  },
  {
   "cell_type": "code",
   "execution_count": 39,
   "id": "49db76e6-ec8b-4978-afa2-5353d3d00570",
   "metadata": {},
   "outputs": [
    {
     "data": {
      "text/plain": [
       "3"
      ]
     },
     "execution_count": 39,
     "metadata": {},
     "output_type": "execute_result"
    }
   ],
   "source": [
    "zeroes.ndim"
   ]
  },
  {
   "cell_type": "code",
   "execution_count": 40,
   "id": "6767075c-43fb-450c-a683-5f08cc470259",
   "metadata": {},
   "outputs": [
    {
     "data": {
      "text/plain": [
       "array([[[9, 9, 9],\n",
       "        [9, 9, 9]],\n",
       "\n",
       "       [[9, 9, 9],\n",
       "        [9, 9, 9]],\n",
       "\n",
       "       [[9, 9, 9],\n",
       "        [9, 9, 9]]])"
      ]
     },
     "execution_count": 40,
     "metadata": {},
     "output_type": "execute_result"
    }
   ],
   "source": [
    "full = np.full((3,2,3), 9)\n",
    "full"
   ]
  },
  {
   "cell_type": "code",
   "execution_count": 41,
   "id": "f0184d0c-45a1-499a-8e48-246f8a8190cc",
   "metadata": {},
   "outputs": [
    {
     "data": {
      "text/plain": [
       "array([[[1., 1., 1.],\n",
       "        [1., 1., 1.]],\n",
       "\n",
       "       [[1., 1., 1.],\n",
       "        [1., 1., 1.]],\n",
       "\n",
       "       [[1., 1., 1.],\n",
       "        [1., 1., 1.]]])"
      ]
     },
     "execution_count": 41,
     "metadata": {},
     "output_type": "execute_result"
    }
   ],
   "source": [
    "ones = np.ones((3, 2, 3))\n",
    "ones"
   ]
  },
  {
   "cell_type": "code",
   "execution_count": 42,
   "id": "46425e21-18d3-4484-ba1d-aed52d17417b",
   "metadata": {},
   "outputs": [
    {
     "data": {
      "text/plain": [
       "array([[[1, 3, 5],\n",
       "        [2, 4, 8]],\n",
       "\n",
       "       [[1, 4, 5],\n",
       "        [6, 7, 1]],\n",
       "\n",
       "       [[9, 3, 6],\n",
       "        [4, 6, 6]]])"
      ]
     },
     "execution_count": 42,
     "metadata": {},
     "output_type": "execute_result"
    }
   ],
   "source": [
    "arr3"
   ]
  },
  {
   "cell_type": "code",
   "execution_count": 43,
   "id": "9e7c5d58-dbc5-48ef-96e6-8571a7caa2f5",
   "metadata": {},
   "outputs": [
    {
     "data": {
      "text/plain": [
       "np.int64(5)"
      ]
     },
     "execution_count": 43,
     "metadata": {},
     "output_type": "execute_result"
    }
   ],
   "source": [
    "arr3[0][0][2]"
   ]
  },
  {
   "cell_type": "code",
   "execution_count": 44,
   "id": "b425cdcc-0551-4dfc-8bbd-5eb7e84c488b",
   "metadata": {},
   "outputs": [
    {
     "data": {
      "text/plain": [
       "array([[[1, 3, 5],\n",
       "        [2, 4, 8]],\n",
       "\n",
       "       [[1, 4, 5],\n",
       "        [6, 7, 1]]])"
      ]
     },
     "execution_count": 44,
     "metadata": {},
     "output_type": "execute_result"
    }
   ],
   "source": [
    "arr3[0:2]"
   ]
  },
  {
   "cell_type": "code",
   "execution_count": 45,
   "id": "43638a06-f96c-4c5f-be61-02d815364a28",
   "metadata": {},
   "outputs": [
    {
     "data": {
      "text/plain": [
       "array([[9, 3, 6],\n",
       "       [4, 6, 6]])"
      ]
     },
     "execution_count": 45,
     "metadata": {},
     "output_type": "execute_result"
    }
   ],
   "source": [
    "arr3[-1]"
   ]
  },
  {
   "cell_type": "code",
   "execution_count": 46,
   "id": "e095a553-5d3a-4dae-b6f2-4eff0f2e3bcb",
   "metadata": {},
   "outputs": [
    {
     "data": {
      "text/plain": [
       "np.int64(4)"
      ]
     },
     "execution_count": 46,
     "metadata": {},
     "output_type": "execute_result"
    }
   ],
   "source": [
    "arr3[1][0][1]"
   ]
  },
  {
   "cell_type": "code",
   "execution_count": 47,
   "id": "f5918340-9f7d-41fb-9d20-328cd2c8810f",
   "metadata": {},
   "outputs": [
    {
     "data": {
      "text/plain": [
       "np.int64(4)"
      ]
     },
     "execution_count": 47,
     "metadata": {},
     "output_type": "execute_result"
    }
   ],
   "source": [
    "arr3[1, 0, 1]"
   ]
  },
  {
   "cell_type": "markdown",
   "id": "663337cd-df03-479c-a9d1-fd8b0bf6ad4b",
   "metadata": {},
   "source": [
    "### Update and Delete"
   ]
  },
  {
   "cell_type": "code",
   "execution_count": 48,
   "id": "16a073a8-3796-4500-8c0a-3950de651bf8",
   "metadata": {},
   "outputs": [],
   "source": [
    "import numpy as np\n",
    "a1 = np.random.rand(2, 3, 2)\n",
    "a2 = np.random.rand(2, 3, 2)"
   ]
  },
  {
   "cell_type": "code",
   "execution_count": 49,
   "id": "331b7e64-c64e-4ac3-971a-5d15c40924ff",
   "metadata": {},
   "outputs": [
    {
     "data": {
      "text/plain": [
       "array([[[1.96245950e-02, 1.39506634e-01],\n",
       "        [9.90358438e-01, 1.40383003e-01],\n",
       "        [3.86985839e-01, 2.75587923e-01]],\n",
       "\n",
       "       [[5.36862022e-01, 2.64189060e-01],\n",
       "        [3.98107082e-01, 6.23366524e-04],\n",
       "        [2.55766707e-01, 5.03453778e-02]]])"
      ]
     },
     "execution_count": 49,
     "metadata": {},
     "output_type": "execute_result"
    }
   ],
   "source": [
    "a1"
   ]
  },
  {
   "cell_type": "code",
   "execution_count": 50,
   "id": "ba1a5f56-23a2-4b2d-82c2-2ee156690fce",
   "metadata": {},
   "outputs": [
    {
     "data": {
      "text/plain": [
       "array([[[0.22209352, 0.40227548],\n",
       "        [0.98839554, 0.16594702],\n",
       "        [0.00633764, 0.97312966]],\n",
       "\n",
       "       [[0.44122845, 0.63685112],\n",
       "        [0.3971108 , 0.08831963],\n",
       "        [0.49679171, 0.70313675]]])"
      ]
     },
     "execution_count": 50,
     "metadata": {},
     "output_type": "execute_result"
    }
   ],
   "source": [
    "a2"
   ]
  },
  {
   "cell_type": "markdown",
   "id": "a65c451c-3440-48d4-8034-c5e6a2f69693",
   "metadata": {},
   "source": [
    "### Basic Math Operations"
   ]
  },
  {
   "cell_type": "code",
   "execution_count": 51,
   "id": "3c004f68-1764-4d06-8898-01d6a62f71ee",
   "metadata": {},
   "outputs": [
    {
     "data": {
      "text/plain": [
       "array([[[0.24171811, 0.54178212],\n",
       "        [1.97875398, 0.30633002],\n",
       "        [0.39332348, 1.24871758]],\n",
       "\n",
       "       [[0.97809047, 0.90104018],\n",
       "        [0.79521788, 0.088943  ],\n",
       "        [0.75255842, 0.75348212]]])"
      ]
     },
     "execution_count": 51,
     "metadata": {},
     "output_type": "execute_result"
    }
   ],
   "source": [
    "np.add(a1, a2)"
   ]
  },
  {
   "cell_type": "code",
   "execution_count": 52,
   "id": "1a3c849e-e23f-4004-867b-424f3e9a2fcb",
   "metadata": {},
   "outputs": [
    {
     "data": {
      "text/plain": [
       "array([[[-0.20246892, -0.26276885],\n",
       "        [ 0.0019629 , -0.02556402],\n",
       "        [ 0.3806482 , -0.69754173]],\n",
       "\n",
       "       [[ 0.09563357, -0.37266206],\n",
       "        [ 0.00099629, -0.08769627],\n",
       "        [-0.24102501, -0.65279137]]])"
      ]
     },
     "execution_count": 52,
     "metadata": {},
     "output_type": "execute_result"
    }
   ],
   "source": [
    "np.subtract(a1, a2)"
   ]
  },
  {
   "cell_type": "code",
   "execution_count": 53,
   "id": "646aeeda-0e64-4d7f-8cec-d5d2581485c3",
   "metadata": {},
   "outputs": [
    {
     "data": {
      "text/plain": [
       "array([[[8.83618545e-02, 3.46793778e-01],\n",
       "        [1.00198595e+00, 8.45950737e-01],\n",
       "        [6.10614682e+01, 2.83197538e-01]],\n",
       "\n",
       "       [[1.21674389e+00, 4.14836455e-01],\n",
       "        [1.00250884e+00, 7.05807406e-03],\n",
       "        [5.14836903e-01, 7.16011190e-02]]])"
      ]
     },
     "execution_count": 53,
     "metadata": {},
     "output_type": "execute_result"
    }
   ],
   "source": [
    "np.divide(a1, a2)"
   ]
  },
  {
   "cell_type": "code",
   "execution_count": 54,
   "id": "90f590fb-63a3-4ef4-b49c-f3e7abae8fc0",
   "metadata": {},
   "outputs": [
    {
     "data": {
      "text/plain": [
       "array([[[4.35849532e-03, 5.61200987e-02],\n",
       "        [9.78865862e-01, 2.32961409e-02],\n",
       "        [2.45257843e-03, 2.68182780e-01]],\n",
       "\n",
       "       [[2.36878798e-01, 1.68249098e-01],\n",
       "        [1.58092621e-01, 5.50555037e-05],\n",
       "        [1.27062780e-01, 3.53996851e-02]]])"
      ]
     },
     "execution_count": 54,
     "metadata": {},
     "output_type": "execute_result"
    }
   ],
   "source": [
    "np.multiply(a1, a2)"
   ]
  },
  {
   "cell_type": "markdown",
   "id": "898f6ae8-e14f-49e1-aa01-6c760f98a47e",
   "metadata": {},
   "source": [
    "### Statistical Operations"
   ]
  },
  {
   "cell_type": "code",
   "execution_count": 55,
   "id": "5a700b80-176a-441a-b768-ba4a827550ca",
   "metadata": {},
   "outputs": [],
   "source": [
    "sqrt = np.sqrt(25)\n",
    "abso = np.abs(-2)\n",
    "power = np.power(2, 8)\n",
    "log = np.log(25)\n",
    "mins = np.max(a1)\n",
    "maxs = np.max(a2)"
   ]
  },
  {
   "cell_type": "code",
   "execution_count": 56,
   "id": "54848eff-7a01-4111-bb24-0ff7a2102d79",
   "metadata": {},
   "outputs": [
    {
     "data": {
      "text/plain": [
       "np.float64(5.0)"
      ]
     },
     "execution_count": 56,
     "metadata": {},
     "output_type": "execute_result"
    }
   ],
   "source": [
    "sqrt"
   ]
  },
  {
   "cell_type": "code",
   "execution_count": 57,
   "id": "0494f88a-2a5f-4f70-9859-8aea03bc8d0b",
   "metadata": {},
   "outputs": [
    {
     "data": {
      "text/plain": [
       "np.int64(2)"
      ]
     },
     "execution_count": 57,
     "metadata": {},
     "output_type": "execute_result"
    }
   ],
   "source": [
    "abso"
   ]
  },
  {
   "cell_type": "code",
   "execution_count": 58,
   "id": "a886c328-8c93-4eb4-be6e-9df2d207ed4c",
   "metadata": {},
   "outputs": [
    {
     "data": {
      "text/plain": [
       "np.int64(256)"
      ]
     },
     "execution_count": 58,
     "metadata": {},
     "output_type": "execute_result"
    }
   ],
   "source": [
    "power"
   ]
  },
  {
   "cell_type": "code",
   "execution_count": 59,
   "id": "900462e3-0efd-4dcd-9042-4b9703ab670a",
   "metadata": {},
   "outputs": [
    {
     "data": {
      "text/plain": [
       "np.float64(3.2188758248682006)"
      ]
     },
     "execution_count": 59,
     "metadata": {},
     "output_type": "execute_result"
    }
   ],
   "source": [
    "log"
   ]
  },
  {
   "cell_type": "code",
   "execution_count": 60,
   "id": "a6d5aa43-0231-4836-92c4-58ddb5cdc791",
   "metadata": {},
   "outputs": [
    {
     "data": {
      "text/plain": [
       "np.float64(0.9903584379839199)"
      ]
     },
     "execution_count": 60,
     "metadata": {},
     "output_type": "execute_result"
    }
   ],
   "source": [
    "mins"
   ]
  },
  {
   "cell_type": "code",
   "execution_count": 61,
   "id": "bd2916c6-5044-4518-aafb-899713058f0a",
   "metadata": {},
   "outputs": [
    {
     "data": {
      "text/plain": [
       "np.float64(0.9883955386665471)"
      ]
     },
     "execution_count": 61,
     "metadata": {},
     "output_type": "execute_result"
    }
   ],
   "source": [
    "maxs"
   ]
  },
  {
   "cell_type": "code",
   "execution_count": 62,
   "id": "89a40c90-7b57-4bab-b120-0facce640486",
   "metadata": {},
   "outputs": [
    {
     "data": {
      "text/plain": [
       "array([[[1, 3, 5],\n",
       "        [2, 4, 8]],\n",
       "\n",
       "       [[1, 4, 5],\n",
       "        [6, 7, 1]],\n",
       "\n",
       "       [[9, 3, 6],\n",
       "        [4, 6, 6]]])"
      ]
     },
     "execution_count": 62,
     "metadata": {},
     "output_type": "execute_result"
    }
   ],
   "source": [
    "arr3"
   ]
  },
  {
   "cell_type": "markdown",
   "id": "6dd38e9c-7b0f-466e-9b18-b77ec8b629d1",
   "metadata": {},
   "source": [
    "### Update"
   ]
  },
  {
   "cell_type": "code",
   "execution_count": 67,
   "id": "92eebcef-60a8-436d-b0e8-bf935366d1b9",
   "metadata": {},
   "outputs": [
    {
     "data": {
      "text/plain": [
       "array([[[1, 3, 5],\n",
       "        [2, 4, 8]],\n",
       "\n",
       "       [[1, 4, 5],\n",
       "        [6, 7, 1]],\n",
       "\n",
       "       [[9, 3, 6],\n",
       "        [4, 6, 6]]])"
      ]
     },
     "execution_count": 67,
     "metadata": {},
     "output_type": "execute_result"
    }
   ],
   "source": [
    "arr3"
   ]
  },
  {
   "cell_type": "code",
   "execution_count": 68,
   "id": "9a9f01d7-2422-4b88-840d-94860f6e806e",
   "metadata": {},
   "outputs": [
    {
     "data": {
      "text/plain": [
       "array([[[1, 3, 5],\n",
       "        [2, 4, 8]],\n",
       "\n",
       "       [[1, 4, 5],\n",
       "        [6, 7, 1]],\n",
       "\n",
       "       [[9, 3, 6],\n",
       "        [4, 6, 6]]])"
      ]
     },
     "execution_count": 68,
     "metadata": {},
     "output_type": "execute_result"
    }
   ],
   "source": [
    "arr3"
   ]
  },
  {
   "cell_type": "code",
   "execution_count": 69,
   "id": "a52c1bb3-948e-4ebe-a420-b384ff4cba85",
   "metadata": {},
   "outputs": [
    {
     "data": {
      "text/plain": [
       "array([[[  1,   3, 500],\n",
       "        [  2,   4,   8]],\n",
       "\n",
       "       [[  1,   4,   5],\n",
       "        [  6,   7,   1]],\n",
       "\n",
       "       [[  9,   3,   6],\n",
       "        [  4,   6,   6]]])"
      ]
     },
     "execution_count": 69,
     "metadata": {},
     "output_type": "execute_result"
    }
   ],
   "source": [
    "arr3[0, 0, 2] = 500\n",
    "arr3"
   ]
  },
  {
   "cell_type": "code",
   "execution_count": 70,
   "id": "f6d0fe33-6cf2-43c7-907f-5fd0762af532",
   "metadata": {},
   "outputs": [
    {
     "data": {
      "text/plain": [
       "array([[[  1,   3, 500],\n",
       "        [  2,   4,   8]],\n",
       "\n",
       "       [[  1,   4,   5],\n",
       "        [  1,   6,   7]],\n",
       "\n",
       "       [[  3,   6,   9],\n",
       "        [  4,   6,   6]]])"
      ]
     },
     "execution_count": 70,
     "metadata": {},
     "output_type": "execute_result"
    }
   ],
   "source": [
    "arr3.sort()\n",
    "arr3"
   ]
  },
  {
   "cell_type": "code",
   "execution_count": 71,
   "id": "0fbe8de1-5790-4bb6-b017-13056261221f",
   "metadata": {},
   "outputs": [
    {
     "data": {
      "text/plain": [
       "(3, 2, 3)"
      ]
     },
     "execution_count": 71,
     "metadata": {},
     "output_type": "execute_result"
    }
   ],
   "source": [
    "# Reshape\n",
    "arr3.shape"
   ]
  },
  {
   "cell_type": "code",
   "execution_count": 73,
   "id": "9396bd56-8483-4425-88a8-b12ac0a6ff9c",
   "metadata": {},
   "outputs": [
    {
     "data": {
      "text/plain": [
       "array([[[  1,   3, 500],\n",
       "        [  2,   4,   8],\n",
       "        [  1,   4,   5]],\n",
       "\n",
       "       [[  1,   6,   7],\n",
       "        [  3,   6,   9],\n",
       "        [  4,   6,   6]]])"
      ]
     },
     "execution_count": 73,
     "metadata": {},
     "output_type": "execute_result"
    }
   ],
   "source": [
    "arr3_reshape = arr3.reshape(2, 3, -1)\n",
    "arr3_reshape"
   ]
  },
  {
   "cell_type": "code",
   "execution_count": 74,
   "id": "9cd4e56c-7bff-41ed-9f7a-e2ab678dfadc",
   "metadata": {},
   "outputs": [
    {
     "data": {
      "text/plain": [
       "(2, 3, 3)"
      ]
     },
     "execution_count": 74,
     "metadata": {},
     "output_type": "execute_result"
    }
   ],
   "source": [
    "arr3_reshape.shape"
   ]
  },
  {
   "cell_type": "markdown",
   "id": "6a3dcb83-508c-4aa4-ac5a-7938a6ad979e",
   "metadata": {},
   "source": [
    "### Appending & Inserting"
   ]
  },
  {
   "cell_type": "code",
   "execution_count": 75,
   "id": "28a29f88-c628-41ff-8f54-760f8db08e5d",
   "metadata": {},
   "outputs": [
    {
     "data": {
      "text/plain": [
       "array([[[1., 1., 1.],\n",
       "        [1., 1., 1.]],\n",
       "\n",
       "       [[1., 1., 1.],\n",
       "        [1., 1., 1.]],\n",
       "\n",
       "       [[1., 1., 1.],\n",
       "        [1., 1., 1.]]])"
      ]
     },
     "execution_count": 75,
     "metadata": {},
     "output_type": "execute_result"
    }
   ],
   "source": [
    "# Create a new array\n",
    "new_array = np.ones((3, 2, 3))\n",
    "new_array"
   ]
  },
  {
   "cell_type": "code",
   "execution_count": 76,
   "id": "7f7daff9-d86a-4759-9629-bf1ab3b11581",
   "metadata": {},
   "outputs": [
    {
     "data": {
      "text/plain": [
       "array([[[0., 0., 0.],\n",
       "        [0., 0., 0.]],\n",
       "\n",
       "       [[0., 0., 0.],\n",
       "        [0., 0., 0.]],\n",
       "\n",
       "       [[0., 0., 0.],\n",
       "        [0., 0., 0.]],\n",
       "\n",
       "       [[1., 1., 1.],\n",
       "        [1., 1., 1.]],\n",
       "\n",
       "       [[1., 1., 1.],\n",
       "        [1., 1., 1.]],\n",
       "\n",
       "       [[1., 1., 1.],\n",
       "        [1., 1., 1.]]])"
      ]
     },
     "execution_count": 76,
     "metadata": {},
     "output_type": "execute_result"
    }
   ],
   "source": [
    "appd = np.append(zeroes, new_array, axis=0) # axis 0 = row, axis 1 = column\n",
    "\n",
    "appd"
   ]
  },
  {
   "cell_type": "code",
   "execution_count": 77,
   "id": "09e9fdd7-e674-4448-926d-79b0d61c9b8b",
   "metadata": {},
   "outputs": [],
   "source": [
    "# Insert"
   ]
  },
  {
   "cell_type": "code",
   "execution_count": 78,
   "id": "d4895564-3726-4db7-968f-b2133883c01f",
   "metadata": {},
   "outputs": [
    {
     "data": {
      "text/plain": [
       "array([[[0., 0., 0.],\n",
       "        [0., 0., 0.]],\n",
       "\n",
       "       [[0., 0., 0.],\n",
       "        [0., 0., 0.]],\n",
       "\n",
       "       [[0., 0., 0.],\n",
       "        [0., 0., 0.]]])"
      ]
     },
     "execution_count": 78,
     "metadata": {},
     "output_type": "execute_result"
    }
   ],
   "source": [
    "zeroes"
   ]
  },
  {
   "cell_type": "code",
   "execution_count": 79,
   "id": "f039183b-a331-49ca-9696-f1b733da8022",
   "metadata": {},
   "outputs": [
    {
     "data": {
      "text/plain": [
       "array([[[1., 1., 1.],\n",
       "        [1., 1., 1.]],\n",
       "\n",
       "       [[1., 1., 1.],\n",
       "        [1., 1., 1.]],\n",
       "\n",
       "       [[1., 1., 1.],\n",
       "        [1., 1., 1.]]])"
      ]
     },
     "execution_count": 79,
     "metadata": {},
     "output_type": "execute_result"
    }
   ],
   "source": [
    "new_array"
   ]
  },
  {
   "cell_type": "code",
   "execution_count": 90,
   "id": "ee801702-c21b-45a9-9d76-dd67463da331",
   "metadata": {},
   "outputs": [
    {
     "data": {
      "text/plain": [
       "array([[[0., 0., 0.],\n",
       "        [0., 0., 0.]],\n",
       "\n",
       "       [[0., 0., 0.],\n",
       "        [0., 0., 0.]],\n",
       "\n",
       "       [[1., 1., 1.],\n",
       "        [1., 1., 1.]],\n",
       "\n",
       "       [[1., 1., 1.],\n",
       "        [1., 1., 1.]],\n",
       "\n",
       "       [[1., 1., 1.],\n",
       "        [1., 1., 1.]],\n",
       "\n",
       "       [[0., 0., 0.],\n",
       "        [0., 0., 0.]]])"
      ]
     },
     "execution_count": 90,
     "metadata": {},
     "output_type": "execute_result"
    }
   ],
   "source": [
    "inserted_array = np.insert(zeroes, 2, new_array, axis=0)\n",
    "inserted_array"
   ]
  },
  {
   "cell_type": "markdown",
   "id": "27cd3304-32db-434a-84b5-7ca034d2ead8",
   "metadata": {},
   "source": [
    "### Delete"
   ]
  },
  {
   "cell_type": "code",
   "execution_count": 91,
   "id": "a7efa56b-fc59-4de5-a183-91f0d6daef50",
   "metadata": {},
   "outputs": [
    {
     "data": {
      "text/plain": [
       "array([[[0.06702725, 0.98777931, 0.55682118],\n",
       "        [0.97357492, 0.81049127, 0.89924163]],\n",
       "\n",
       "       [[0.67920166, 0.68106695, 0.4726295 ],\n",
       "        [0.38288848, 0.95783965, 0.42728649]],\n",
       "\n",
       "       [[0.82081992, 0.26319625, 0.593967  ],\n",
       "        [0.9790322 , 0.85515796, 0.45798731]]])"
      ]
     },
     "execution_count": 91,
     "metadata": {},
     "output_type": "execute_result"
    }
   ],
   "source": [
    "arr4 = np.random.rand(3, 2, 3)\n",
    "arr4"
   ]
  },
  {
   "cell_type": "code",
   "execution_count": 92,
   "id": "1673819b-7747-4af6-9e6a-f4310850b0c1",
   "metadata": {},
   "outputs": [],
   "source": [
    "# delete the array\n",
    "arr5 = np.delete(arr4, 0, axis=1)"
   ]
  },
  {
   "cell_type": "raw",
   "id": "443c925b-746f-43fb-802e-a93c9d66f2ef",
   "metadata": {},
   "source": [
    "arr5"
   ]
  },
  {
   "cell_type": "code",
   "execution_count": 93,
   "id": "e9ad9c98-c4ac-4330-8483-3b041c4c43f5",
   "metadata": {},
   "outputs": [],
   "source": [
    "np.save(\"new_array\", arr5)"
   ]
  },
  {
   "cell_type": "code",
   "execution_count": 94,
   "id": "bee47c4f-5f85-4f25-9883-0aac3ecb2677",
   "metadata": {},
   "outputs": [
    {
     "data": {
      "text/plain": [
       "array([[[0.97357492, 0.81049127, 0.89924163]],\n",
       "\n",
       "       [[0.38288848, 0.95783965, 0.42728649]],\n",
       "\n",
       "       [[0.9790322 , 0.85515796, 0.45798731]]])"
      ]
     },
     "execution_count": 94,
     "metadata": {},
     "output_type": "execute_result"
    }
   ],
   "source": [
    "np.load(\"new_array.npy\")"
   ]
  },
  {
   "cell_type": "code",
   "execution_count": null,
   "id": "d440b0dd-944a-46a7-ba3d-229034f981ea",
   "metadata": {},
   "outputs": [],
   "source": []
  }
 ],
 "metadata": {
  "kernelspec": {
   "display_name": "Python 3 (ipykernel)",
   "language": "python",
   "name": "python3"
  },
  "language_info": {
   "codemirror_mode": {
    "name": "ipython",
    "version": 3
   },
   "file_extension": ".py",
   "mimetype": "text/x-python",
   "name": "python",
   "nbconvert_exporter": "python",
   "pygments_lexer": "ipython3",
   "version": "3.11.11"
  }
 },
 "nbformat": 4,
 "nbformat_minor": 5
}
